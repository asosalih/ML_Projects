{
 "cells": [
  {
   "cell_type": "code",
   "execution_count": null,
   "id": "bbf7686f",
   "metadata": {},
   "outputs": [],
   "source": [
    "#import all needed libraries\n",
    "import numpy as np\n",
    "import pandas as pd\n",
    "import matplotlib.pyplot as plt\n",
    "from sklearn.linear_model import LinearRegression\n",
    "%matplotlib inline"
   ]
  },
  {
   "cell_type": "code",
   "execution_count": null,
   "id": "c0d91f7a",
   "metadata": {},
   "outputs": [],
   "source": [
    "# Reading Datasets from the defined location\n",
    "df=pd.read_csv(\"Datasets/Salary_Data.csv\")\n",
    "df.head()"
   ]
  },
  {
   "cell_type": "code",
   "execution_count": null,
   "id": "5f9fbab0",
   "metadata": {},
   "outputs": [],
   "source": [
    "# find if there is any missing data in your dataset\n",
    "df.isnull().sum()"
   ]
  },
  {
   "cell_type": "code",
   "execution_count": null,
   "id": "f44353cc",
   "metadata": {},
   "outputs": [],
   "source": [
    "# separate independant(Features) and dependant (label) values\n",
    "X=df[['YearsExperience']] #Features\n",
    "y=df['Salary']            # label"
   ]
  },
  {
   "cell_type": "code",
   "execution_count": null,
   "id": "3debef54",
   "metadata": {},
   "outputs": [],
   "source": [
    "#use plot to view the relation between Features and label values\n",
    "plt.scatter(X,y)\n",
    "plt.ylabel(\"Salary\")\n",
    "plt.xlabel(\"Experience\")\n",
    "plt.title(\"Salary vis years of Experience\")"
   ]
  },
  {
   "cell_type": "code",
   "execution_count": null,
   "id": "b1e22284",
   "metadata": {},
   "outputs": [],
   "source": [
    "# we can see better linear relation \n",
    "# with a ploting library called seaborn\n",
    "import seaborn as sns"
   ]
  },
  {
   "cell_type": "code",
   "execution_count": null,
   "id": "d16d973b",
   "metadata": {
    "scrolled": true
   },
   "outputs": [],
   "source": [
    "sns.lmplot(x=\"YearsExperience\",y=\"Salary\",data=df)"
   ]
  },
  {
   "cell_type": "code",
   "execution_count": null,
   "id": "ce8476df",
   "metadata": {},
   "outputs": [],
   "source": [
    "# creating and training our model\n",
    "Model=LinearRegression()\n",
    "Model.fit(X,y)"
   ]
  },
  {
   "cell_type": "code",
   "execution_count": null,
   "id": "fe8aa518",
   "metadata": {},
   "outputs": [],
   "source": [
    "# using our trained model and make prediction\n",
    "Data=float(input('Input your data:'))\n",
    "Data=np.array([[Data]])\n",
    "Model.predict(Data)"
   ]
  },
  {
   "cell_type": "code",
   "execution_count": null,
   "id": "c35aacab",
   "metadata": {},
   "outputs": [],
   "source": []
  }
 ],
 "metadata": {
  "kernelspec": {
   "display_name": "Python 3 (ipykernel)",
   "language": "python",
   "name": "python3"
  },
  "language_info": {
   "codemirror_mode": {
    "name": "ipython",
    "version": 3
   },
   "file_extension": ".py",
   "mimetype": "text/x-python",
   "name": "python",
   "nbconvert_exporter": "python",
   "pygments_lexer": "ipython3",
   "version": "3.9.12"
  }
 },
 "nbformat": 4,
 "nbformat_minor": 5
}
